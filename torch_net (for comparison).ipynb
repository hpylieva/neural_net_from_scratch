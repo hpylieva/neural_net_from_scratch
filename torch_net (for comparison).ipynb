{
 "cells": [
  {
   "cell_type": "markdown",
   "metadata": {},
   "source": [
    "## With our dataset"
   ]
  },
  {
   "cell_type": "code",
   "execution_count": 34,
   "metadata": {},
   "outputs": [],
   "source": [
    "from sklearn import preprocessing\n",
    "import pandas as pd"
   ]
  },
  {
   "cell_type": "markdown",
   "metadata": {},
   "source": [
    "##### Data load"
   ]
  },
  {
   "cell_type": "code",
   "execution_count": 44,
   "metadata": {},
   "outputs": [],
   "source": [
    "data=pd.read_csv(\"data/car_data/car.data\", sep= ',', header= None)\n",
    "\n",
    "le = preprocessing.LabelEncoder()\n",
    "data = data.apply(le.fit_transform)\n",
    "data = np.asarray(data)"
   ]
  },
  {
   "cell_type": "code",
   "execution_count": 45,
   "metadata": {},
   "outputs": [
    {
     "name": "stdout",
     "output_type": "stream",
     "text": [
      "(1728, 7)\n"
     ]
    }
   ],
   "source": [
    "print(data.shape)"
   ]
  },
  {
   "cell_type": "code",
   "execution_count": 46,
   "metadata": {},
   "outputs": [],
   "source": [
    "dataX = data[:,0:6]\n",
    "dataY = data[:,6]"
   ]
  },
  {
   "cell_type": "code",
   "execution_count": 53,
   "metadata": {},
   "outputs": [],
   "source": [
    "n_samples = data.shape[0]\n",
    "dim_in = 6 \n",
    "dim_out = 4\n",
    "\n",
    "n_train = int(n_samples * 0.7)\n",
    "n_test = n_samples - n_train"
   ]
  },
  {
   "cell_type": "code",
   "execution_count": 54,
   "metadata": {},
   "outputs": [],
   "source": [
    "# train-test partition\n",
    "perm = np.random.permutation(n_samples)\n",
    "train_indx = perm[:n_train]\n",
    "test_indx = perm[n_train:]\n",
    "\n",
    "dataX_train, dataY_train = dataX[train_indx,:], dataY[train_indx]\n",
    "dataX_test, dataY_test = dataX[test_indx,:], dataY[test_indx]"
   ]
  },
  {
   "cell_type": "code",
   "execution_count": 55,
   "metadata": {},
   "outputs": [],
   "source": [
    "dim_hidden1 = 100\n",
    "dim_hidden2 = 150\n",
    "model = Net(dim_in, dim_hidden1, dim_hidden2, dim_out)"
   ]
  },
  {
   "cell_type": "code",
   "execution_count": 56,
   "metadata": {},
   "outputs": [],
   "source": [
    "x = torch.from_numpy(dataX_train).type(dtype_torch)\n",
    "y = torch.from_numpy(dataY_train).type(torch.LongTensor)"
   ]
  },
  {
   "cell_type": "code",
   "execution_count": 57,
   "metadata": {},
   "outputs": [],
   "source": [
    "learning_rate = 1e-2\n",
    "n_iteration = 1000"
   ]
  },
  {
   "cell_type": "code",
   "execution_count": 58,
   "metadata": {},
   "outputs": [
    {
     "name": "stdout",
     "output_type": "stream",
     "text": [
      "0 1.2677693367004395\n",
      "100 0.7391719818115234\n",
      "200 0.7179017066955566\n",
      "300 0.7068893313407898\n",
      "400 0.6992645859718323\n",
      "500 0.6934142708778381\n",
      "600 0.6884718537330627\n",
      "700 0.6840059757232666\n",
      "800 0.6798460483551025\n",
      "900 0.675817608833313\n"
     ]
    }
   ],
   "source": [
    "logger = {}\n",
    "logger['iteration'] = []\n",
    "logger['loss_iteration'] = []\n",
    "\n",
    "for t in range(n_iteration):  \n",
    "    \n",
    "    # forward pass\n",
    "    y_pred = model(x)\n",
    "    \n",
    "    # compute loss\n",
    "    loss = criterion(y_pred, y)\n",
    "\n",
    "    # backprop\n",
    "    loss.backward()\n",
    "\n",
    "    # update weights using gradient descent  \n",
    "    for param in model.parameters():\n",
    "        param.data -= learning_rate * param.grad.data \n",
    "    \n",
    "    # manually zero the gradients\n",
    "    model.zero_grad()  \n",
    "    \n",
    "    # reporting & logging       \n",
    "    if t % 100 == 0:\n",
    "        print(t, loss.item())\n",
    "        \n",
    "    logger['iteration'] += [t]\n",
    "    logger['loss_iteration'] += [loss.item()]"
   ]
  },
  {
   "cell_type": "code",
   "execution_count": 59,
   "metadata": {},
   "outputs": [
    {
     "data": {
      "image/png": "[encoded data removed]",
      "text/plain": [
       "<matplotlib.figure.Figure at 0x7fb7d7d468d0>"
      ]
     },
     "metadata": {},
     "output_type": "display_data"
    }
   ],
   "source": [
    "# visualize loss\n",
    "plt.figure(figsize=(10,5))\n",
    "plt.plot(logger['iteration'], logger['loss_iteration'],'ob', label=\"loss\")\n",
    "\n",
    "plt.xlabel('iteration')\n",
    "plt.ylabel('loss');"
   ]
  },
  {
   "cell_type": "code",
   "execution_count": 60,
   "metadata": {},
   "outputs": [
    {
     "name": "stdout",
     "output_type": "stream",
     "text": [
      "Train accuracy: 70.140612\n",
      "Test accuracy: 71.098266\n"
     ]
    }
   ],
   "source": [
    "y_train_predict = predict(dataX_train,model)\n",
    "print(\"Train accuracy: %f\" % get_accuracy(y_train_predict, dataY_train))\n",
    "\n",
    "y_test_predict = predict(dataX_test, model)\n",
    "print(\"Test accuracy: %f\" % get_accuracy(y_test_predict, dataY_test))"
   ]
  }
 ],
 "metadata": {
  "kernelspec": {
   "display_name": "Python 3",
   "language": "python",
   "name": "python3"
  },
  "language_info": {
   "codemirror_mode": {
    "name": "ipython",
    "version": 3
   },
   "file_extension": ".py",
   "mimetype": "text/x-python",
   "name": "python",
   "nbconvert_exporter": "python",
   "pygments_lexer": "ipython3",
   "version": "3.6.4"
  }
 },
 "nbformat": 4,
 "nbformat_minor": 1
}
